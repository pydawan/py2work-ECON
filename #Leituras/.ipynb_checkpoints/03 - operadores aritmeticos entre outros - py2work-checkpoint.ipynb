{
 "cells": [
  {
   "cell_type": "markdown",
   "metadata": {},
   "source": [
    "# Operadores matematicos entre outros\n",
    "\n",
    "  Operadores matematicos e de comparação são **essenciais no mundo** da programação uma vez que são eles que possibilitam a interação matematica e logica entre variaveis para que seja usados nas estruturas do controle de fluxo (decisão e repetição) não é algo dificil de se aprender é como calcular coisas em uma calculadora simples portanto deixarei um código abaixo e acredito que consiga entender por conta propria mas como sou muito cuidadoso contigo deixo links extras abaixo para que consiga ter uma melhor comprensão uma vez que nessas referencias há toda sintetização de uma maneira mais sofisticada."
   ]
  },
  {
   "cell_type": "code",
   "execution_count": null,
   "metadata": {},
   "outputs": [],
   "source": [
    "\"\"\"\n",
    "    Operadores\n",
    "        - matematico\n",
    "        - comparacao\n",
    "        - logicos\n",
    "\"\"\"\n",
    "\n",
    "a = 3\n",
    "b = 4\n",
    "c = 5\n",
    "\n",
    "#Matematicos\n",
    "soma = a+b\n",
    "menos = a-b\n",
    "\n",
    "multiplicacao = a*b\n",
    "divisao = a/b\n",
    "\n",
    "resto = b // a\n",
    "quociente = b % a\n",
    "\n",
    "potencia = a**b\n",
    "\n",
    "\n",
    "#Comparacao\n",
    "maior = a > b\n",
    "maior_igual = a >= b\n",
    "\n",
    "menor = a < b\n",
    "menor_igual = a <= b\n",
    "\n",
    "igual = a == b\n",
    "diferente = a != b\n",
    "\n",
    "#Logicos\n",
    "\n",
    "E = a<b and c>b   # &\n",
    "OU = a>b or c>b   # |\n",
    "não = a = not(c)"
   ]
  },
  {
   "cell_type": "markdown",
   "metadata": {},
   "source": [
    "## Operadores matematicos\n",
    "\n",
    "Traduzindo o código basicamente estamos armazenando um valor na variavel e utilizando os operadores exemplo:\n",
    "\n",
    "Chamaremos uma variavel de soma e apos isso iremos executar a operação de soma das variaveis a **+** b.\n",
    " Espero que compreenda essa dinamica pois a partir de agora espero que consiga fazer a leitura de códigos e entender o conceito de declaração de variaveis.\n",
    " \n",
    " Os operadoradores classicos que vemos acima no código são utilizados para nossas **operações matematicas**. Onde podemos fazer \"continhas\" como somar ,dividir , subtrair etc..."
   ]
  },
  {
   "cell_type": "markdown",
   "metadata": {},
   "source": [
    "## Operadores de comparação\n",
    "\n",
    "  Os operadores de comparação são muito utilizado para **comparar** dois ou mais **dados** exemplos como se eu tenho mais que 18 anos, se um titulo que comprei valorizou mais que 10% com base nisso podemos **tomar decisões** em nossos códigos."
   ]
  },
  {
   "cell_type": "markdown",
   "metadata": {},
   "source": [
    "## Operadores logicos\n",
    "\n",
    " Os operadores logicos tem como saida os valores verdadeiro e falso! Isso é muito utilizado para gerar decisões.\n",
    " \n",
    " Operador (AND) tem saida verdadeiro se todos as comparações são verdadeiras enquanto operador (OR) tem saida verdadeiro se alguma das comparações são verdadeiras caso isso não ocorra haverá uma saida de valor falso.<br>\n",
    "  Para um melhor entendimento segue a tabela abaixo com as regras logicas estude!\n",
    "  \n",
    "  <img src= \"static/3_tbl_logica.png\">"
   ]
  },
  {
   "cell_type": "markdown",
   "metadata": {},
   "source": [
    "___\n",
    "## Links\n",
    "\n",
    "1. https://data-flair.training/blogs/python-operator/\n",
    "2. https://www.tutorialspoint.com/python/python_basic_operators.htm"
   ]
  },
  {
   "cell_type": "markdown",
   "metadata": {},
   "source": [
    "## Proximo Capitulo : [Estruturas lógicas]\n",
    "## [Home](https://github.com/Ratarca/py2work-ECON)"
   ]
  }
 ],
 "metadata": {
  "kernelspec": {
   "display_name": "Python 3",
   "language": "python",
   "name": "python3"
  }
 },
 "nbformat": 4,
 "nbformat_minor": 2
}
