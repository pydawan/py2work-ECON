{
 "cells": [
  {
   "cell_type": "markdown",
   "metadata": {},
   "source": [
    "# Estrutura de decisão\n",
    "   \n",
    "   Acredito que você lembre do caderno 1 ~~casonaolembrerevisitar~~ que dizemos que algoritmos essencialmente recebem dados apos isso **fazem alguma coisa** e retornam algo!<br>\n",
    "   De uma maneira simplificada esse fazer alguma coisa segundo minha breve experiência como programador essencialmente dos programas mais simples aos complexos são algumas estruturas canonicas de pensamentos logicos que foram abstraidos a uma forma primitiva para faze sentido aos computadores. ~~seébichaomemoein!~~<br>\n",
    "  \n",
    "  Em geral essas estruturas abstraidas são de **decisão**,repeticação e funções . Neste capitulo vamos se aprofundar em estruturas de decisão. ~~minhaspreferidas~~\n",
    "  \n",
    "<img src= \"static/4.1_if_else.png\">\n",
    "  \n",
    "  Vamos exemplificar estruturas de decisão com uma historia enquanto eu ia no meu longo trajeto a faculdade ~~2:30debus~~~.<br>\n",
    "   Claramente quando chegava na faculdade eu estava faminto e para matar minha fome eu ia para o bandeco ~~restauranteuniversitario~~ lá eu encontra-va uma decisão logica somente se eu estivesse com muita fome eu iria comer chegando lá eu passava meu cartão se tivesse dinheiro eu entrava para comer caso contrario nada feito.<br>\n",
    "   Se você analisar fazemos algo somente se for verdade mas caso não for verdade fazemos outra coisa.<br>\n",
    "           \n",
    " <img src= \"static/4.2_arvore_profundidade.jpg\">\n",
    "           \n",
    "   Basicamente há duas possibilidades de fazer decisões:\n",
    "   1. vimos anteriormente eu costumo chamar de decisões de **profundidade** isso é aquelas que vão avançando conforme vamos dizendo sim e não! Essa seria a sintaxe (IF ... ELSE)\n",
    "   2. Por **prioridade** de prioridades que utilizamos a sintaxe (ELIF)\n",
    "   \n",
    "   Hoje estou cheio de historinhas né para quem não sabe no bandeco tem 3 misturas duas comuns e uma vegana o famigerado PVT ,mas apesar deu ser da quebrada sou meio freco ~~sqn~~ e como somente carne mas se não tiver carne eu como frango caso não tenha frango eu não como mistura em um fluxograma isso estaria disposto assim. \n",
    "   \n",
    "<img src= \"static/4.3_Python_if_elif_else_statement.jpg\">\n",
    "   \n",
    "   \n",
    "   <div class=\"alert alert-block alert-danger\">\n",
    "<b>Atenção:</b> uando utilizamos esse tipo de escolhas com a sintaxe (ELIF) caso de positivo em uma condição as demais serão ignoradas.\n",
    "</div>"
   ]
  },
  {
   "cell_type": "code",
   "execution_count": null,
   "metadata": {},
   "outputs": [],
   "source": [
    "\"\"\"\n",
    " #Sintaxe (If...Else)   \n",
    "    if expressão:\n",
    "        #Code\n",
    "    else:\n",
    "        #Code\n",
    "\"\"\"\n",
    "\n",
    "\n",
    "\n",
    "##1. Setando as variaveis\n",
    "nome_d = str(input(\"Digite seu nome:\"))\n",
    "idade_d = int(input(\"Digite sua idade:\"))\n",
    "riqueza_d = float(input(\"Quanto você possui em R$: \"))\n",
    "fome_d = True #Poderia ser False\n",
    "\n",
    "    #Decisão tipo 1 : Profundidade\n",
    "\n",
    "##2. Criando nossas escolhas\n",
    "if fome_d == True:\n",
    "    if riqueza_d >= 2:\n",
    "        print(\"{} está indo comer no bandeco\".format(nome_d))\n",
    "else:\n",
    "    print(\"{} não está com fome\".format(nome_d))\n",
    "\n",
    "\n",
    "\"\"\"\n",
    " #Sintaxe (If...Elif...Else)\n",
    "     if expressão:\n",
    "         #code\n",
    "     \n",
    "     elif expressão:\n",
    "         #code1\n",
    "     elif expressão:\n",
    "         #codeN\n",
    "         \n",
    "     else:\n",
    "         #code\n",
    " \n",
    "\"\"\"\n",
    "\n",
    "    #Decisão tipo 2 : Prioridade\n",
    "\n",
    "prato_dia = \"Ovo\"\n",
    "\n",
    "if prato_dia == \"Carne\":\n",
    "    print(\"{} está indo comer {} no bandeco\".format(nome_d,prato_dia))\n",
    "elif prato_dia == \"Frango\":\n",
    "    print(\"{} está indo comer {} no bandeco\".format(nome_d,prato_dia))\n",
    "else:\n",
    "    print(\"{} não está com fome\".format(nome_d))\n"
   ]
  },
  {
   "cell_type": "markdown",
   "metadata": {},
   "source": [
    "## Analisando o código!\n",
    "\n",
    " Iremos dividir nossa analise de código em duas sendo a primeira analisando decisões de profundidade e a segunda decisões de prioridade ~~naoseiseesseéonomemasfacilitouminhavidaisso~~.\n",
    " \n",
    " Primeiro utilizamos o código da aula anterior após isso inicializamos nossa sintaxe de decisão onde o primeiro if verifica uma condição caso não se verifique pulamos para o else caso contrario rodamos o código abaixo que por coincidencia é outro if que ira verificar novamente outra condição se for verdade ele irá executar mas se não se verificar ele não fara nada!\n",
    " \n",
    " O segundo código age de uma maneira similar entretanto totalmente diferente pois declaramos o prato do dia primeiro apos isso vamos para linha fo if se for verdade ele ira executar entretanto se não se verificar iremos para o proximo comando que é o elif caso se verifique ele irá executar o código mas caso não se verifique iremos rodar o código do else. \n",
    " \n",
    " <div class=\"alert alert-block alert-danger\">\n",
    "<b>Nota:</b> se tivessemos prato_dia == \"Frango\" e mais de um elif embaixo rodariamos o frango e iriamos ignorar o debaixo!\n",
    "</div>"
   ]
  },
  {
   "cell_type": "markdown",
   "metadata": {},
   "source": [
    "___\n",
    "## Links :\n",
    "\n",
    "1. https://www.caelum.com.br/apostila-python-orientacao-objetos/declarando-e-usando-variaveis/#o-comando-elif\n",
    "2. https://data-flair.training/blogs/python-decision-making-expressions/\n",
    "3. https://realpython.com/python-conditional-statements/\n",
    "\n",
    "4. https://www.youtube.com/watch?v=4u2ClNCtcgY\n"
   ]
  },
  {
   "cell_type": "markdown",
   "metadata": {},
   "source": [
    "## Proximo capitulo : [Estrutura de repetição]                                                                   \n",
    "## [Home](https://github.com/Ratarca/py2work-ECON)"
   ]
  }
 ],
 "metadata": {
  "kernelspec": {
   "display_name": "Python 3",
   "language": "python",
   "name": "python3"
  }
 },
 "nbformat": 4,
 "nbformat_minor": 2
}
