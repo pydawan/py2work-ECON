{
 "cells": [
  {
   "cell_type": "markdown",
   "metadata": {},
   "source": [
    "# Tipos de variaveis\n",
    "\n",
    " Não é que você continuou fico muito feliz amigx! Então neste capitulo iremos falar um pouco sobre tipos de variaveis. \n",
    " \n",
    " Lembra anteriormente que **declaramos uma** caixinha,**variavel**, chamada **recebe_pedido** e convertemos aquele dado em string agora vamos explicar de uma vez por todas quais dados nosso computador pode suportar , irei abordar 99% desse topico uma vez que há outros dados a utilizar entretanto você não precisa esquentar com isso foque no que está neste tutorial e meu nobre amigx irá conseguir compreender infinitos programas e quem sabe se continuar conosco poderar criar inumeros programinhas também!\n",
    " \n",
    " Basicamente há **4 tipos** de dados:\n",
    " \n",
    " 1. **Strings** : São **textos** como esse que você está lendo meu camarada!\n",
    " 2. **Int** : São **numeros inteiros** usamos para coisas ~~discretas~~ que não conseguimos dividir como pessoas ou atomos ~~nãofaçaisso~~\n",
    " 3. **Float** : São **numeros \"quebrados\"** aqueles que usamos para contar dinheiro ou coisas desse tipo além disso vale lembrar que nosso separador é o ponto não a virgula!\n",
    " 4. **Bool** : São **valores booleanos** ~~vemdebola?~~ ou seja Verdadeiro ou Falso.\n",
    " \n",
    "  Agora que te entupi de conhecimento deixa eu desabafar meus dias contigo pois eu mereço né! :)\n",
    "  \n",
    "  Eu não te contei que trabalhei em uma papelaria?Então enquanto trabalhava na loja eu também tocava minha faculdade de economia e agora iremos começar **aprender um pouco de computação aplicada a economia** my baby!\n",
    "  \n",
    "  ~~RELAXAVOLTAREMOSPARAPAPELARIALOGONAPARTEMAISIMPORTANTEDOCURSONUNCADESPRESEOPASSADOAMIGAÇO~~\n",
    "  \n",
    "   Há um **conceito central em economia** chamado **mercado** basicamente é ele **entidade abstrata** que representa um **conjunto de pessoas dispostas a transacionar** isso é pessoas comprando(demanda) e pessoas vendendo(oferta) interagindo por vontade propria e chegando as melhores decisões possiveis ~~háhipotesesdeconstrucaodomodeloeconomico~~ . Tá Greg tu ta falando um monte de coisa mas cade a computação ~~caralho~~ bem vamos criar uma pessoa que compra com códigos de computador? Uma representação claro!"
   ]
  },
  {
   "cell_type": "code",
   "execution_count": null,
   "metadata": {},
   "outputs": [],
   "source": [
    "\"\"\"\n",
    "     A nossa representação de pessoa é composta por:\n",
    "         -Nome\n",
    "         -Idade\n",
    "         -Riqueza\n",
    "         -Racional\n",
    "\"\"\"\n",
    "\n",
    "1#\n",
    "nome_d = str(input(\"Digite seu nome:\"))\n",
    "idade_d = int(input(\"Digite sua idade:\"))\n",
    "riqueza_d = float(input(\"Quanto você possui em R$: \"))\n",
    "racional_d = True #Poderia ser False\n",
    "\n",
    "print(\"O {} tem {} anos e possui R${} em sua conta\".format(nome_d,idade_d,riqueza_d,racional_d))"
   ]
  },
  {
   "cell_type": "markdown",
   "metadata": {},
   "source": [
    "## Analisando o código!\n",
    "\n",
    "1. Basicamente utilizamos a sintaxe para declarar variaveis isso é : var = ALGO\n",
    "2. Apos isso utilizamos a sintaxe para receber dados isso é : input( ALGO )\n",
    "3. Por fim colocamos por fora de tudo uma função de conversão/coersão de dados para ter somentes os dados que desejamos que são str, int, float e temos o bool sem isso!\n",
    " "
   ]
  },
  {
   "cell_type": "markdown",
   "metadata": {},
   "source": [
    "___\n",
    "## Links\n",
    "\n",
    "   **Tipos de dados**\n",
    "1. https://realpython.com/python-data-types/\n",
    "\n",
    "  **Renda Fixa : titulos publicos**\n",
    "1. http://www.tesouro.fazenda.gov.br/documents/10180/560982/Modulo_1_-_TesouroDireto.pdf\n",
    "2. http://www.tesouro.fazenda.gov.br/documents/10180/560982/Modulo_2_-_Tesouro_Direto.pdf\n",
    "3. http://www.tesouro.fazenda.gov.br/documents/10180/560982/Modulo_3_-_Tesouro_Direto.pdf"
   ]
  },
  {
   "cell_type": "markdown",
   "metadata": {},
   "source": [
    "## Proximo capitulo : [Operadores matematico e outros]\n",
    "## [Home](https://github.com/Ratarca/py2work-ECON)"
   ]
  }
 ],
 "metadata": {
  "kernelspec": {
   "display_name": "Python 3",
   "language": "python",
   "name": "python3"
  }
 },
 "nbformat": 4,
 "nbformat_minor": 2
}
