{
 "cells": [
  {
   "cell_type": "markdown",
   "metadata": {},
   "source": [
    "#  Input & Output + Comentarios\n",
    "\n",
    " Olá meu nome é Rafael mas pode me chamar de Greg serei o seu guia ao longo dessa jornada no aprendizado da computação.\n",
    "   \n",
    "   Atualmente trabalho no mercado financeiro e paralelamente estudo economia entretanto anteriormente trabalhei em uma papelaria ~~faztudo~~ e com experiencia nesses ambientes eu irei explorar o mundo da programação em exemplos referentes a tais assuntos . Meu intuito é fazer **tutoriais explicativos** e com uma **linguagem meio informal** junto a isso **meu** maior **objetivo** é conseguir **fazer você entender programação** de um jeito simples e divertido!\n",
    " \n",
    " Nesse começo quero lhe apresentar 3 coisas.\n",
    " \n",
    " 1. **Comentarios** são licenças poeticas dentro do código para que você possa inserir anotações isso é quando você ativa a sintaxe,estrutura, de comentarios seu programa passa por essas linhas sem se importar.\n",
    " 2. **Algoritmos** basicamente algoritmo consiste em uma sequência de passos isso é inputs para no fim ter um resultado output logo podemos perceber que a vida é recheada de algoritmos uma receita de um bolo gostoso, métodos numericos, um atendimento na papelaria etc...\n",
    " 3. **Variaveis** consistem em espaços de memoria que o computador separa armazenando estruturas de código de maneira informal variaveis são caixas que você pode jogar coisas dentros e depois utilizar essas caixas com estruturas logicas que iremos ver mais a diante.\n",
    " \n",
    "  Acredito que já mandei muita teoria para você que chega ser chato né ?! Então vamos mudar de assunto e falar sobre minha vida , certo dia estava na loja brisando na vida quando pensei se existisse um robo para minha função de atendente como seria o seu software?!\n",
    " "
   ]
  },
  {
   "cell_type": "code",
   "execution_count": null,
   "metadata": {},
   "outputs": [],
   "source": [
    "\"\"\"\n",
    " Essa estrutura de 3 aspas serve para grandes comentarios\n",
    "     1. Comentarios grandes\n",
    "     2. Comentarios de uma linha\n",
    "     3. input -> permite entradas de dados!\n",
    "     4. print -> permite um output de dados mais precisamente uma impressão de dados na tela\n",
    "\"\"\"\n",
    "\n",
    "#Atendente de loja\n",
    "\n",
    "##2\n",
    "recebe_pedido = str(input(\"Olá meu senhor o que deseja : \"))\n",
    "\n",
    "##3\n",
    "print(recebe_pedido)\n",
    "\n",
    "##4\n",
    "print(\"Seu {} está aqui meu camarada\".format(recebe_pedido))"
   ]
  },
  {
   "cell_type": "markdown",
   "metadata": {},
   "source": [
    " ## Analisando o codigo acima : \n",
    " \n",
    "   Iremos analisar todos os códigos dessa forma então cara se acostume se consegue entender o código por conta propria indico pular tal parte pois pode ser cansativa! Acredito que ao longo do tempo faça blocos e não comente de uma maneira extensiva o código. \n",
    "   \n",
    "   1. Fazemos comentarios utilizando a estrutura de três aspas e o #\n",
    "   2. Declaramos uma variavel chamada recebe_pedido qual recebe uma entrada de dado e utilizamos a função ~~naoesquentecomtalconceitoveremosmaisadiante!~~ str para converter em string ,palavras.\n",
    "   3. Após isso mostramos ao usuario o seu pedido da maneira mais simples.\n",
    "   4. Utilizamos uma impressão mais moderna que é utilizada na maioria dos códigos python atual (v3)."
   ]
  },
  {
   "cell_type": "markdown",
   "metadata": {},
   "source": [
    "___\n",
    "## Links :\n",
    "\n",
    "1. https://www.youtube.com/watch?v=xwR28LoUnq0\n",
    "2. https://cadernoscicomp.com.br/tutorial/introducao-a-programacao-em-python-3/funcoes-print-input-e-o-metodo-format/\n",
    "3. https://realpython.com/python-f-strings/"
   ]
  },
  {
   "cell_type": "markdown",
   "metadata": {},
   "source": [
    "## Proximo capitulo : [Tipo de variaveis]                                                                   \n",
    "## [Home](https://github.com/Ratarca/py2work-ECON)"
   ]
  }
 ],
 "metadata": {
  "kernelspec": {
   "display_name": "Python 3",
   "language": "python",
   "name": "python3"
  }
 },
 "nbformat": 4,
 "nbformat_minor": 2
}
