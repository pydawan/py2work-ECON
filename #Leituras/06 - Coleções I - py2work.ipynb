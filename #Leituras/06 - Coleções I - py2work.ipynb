{
 "cells": [
  {
   "cell_type": "markdown",
   "metadata": {},
   "source": [
    "# Coleções I : Listas - Tuplas\n",
    "\n",
    " Coleções é um assunto de suma importancia em códigos python uma vez que ocupam uma parte central mas afinal o que são coleções?<br>\n",
    " **Coleções** são estruturas de dados ~~objetosnareal~~ pré-definidas pela linguagem python uma vez que são altamente utilizados no código evitando a reinvenção da roda!<br>\n",
    "  Neste topico de coleções iremos abordar as coleções e seus respectivos métodos , ações que elas podem executar!\n",
    "  \n",
    "  **Sessão I** : Listas , tuplas e também iremos abordar a função zip. ~~acheiomelhorlugarparacolocarele!~~<br>\n",
    "  **Sessão II**: Dicionarios e Set. ~~setéconjuntosmatematicospae~~\n",
    "  \n"
   ]
  },
  {
   "cell_type": "markdown",
   "metadata": {},
   "source": [
    "____\n",
    "## Listas\n",
    "\n",
    "Conceito lista \n",
    "Metodos importantes : append , extend, remove , pop , index , sort , reverse , copy"
   ]
  },
  {
   "cell_type": "markdown",
   "metadata": {},
   "source": [
    "___\n",
    "## Tuplas\n",
    "\n",
    "Conceito tuplas\n",
    "Metodos importantes : "
   ]
  },
  {
   "cell_type": "code",
   "execution_count": null,
   "metadata": {},
   "outputs": [],
   "source": []
  },
  {
   "cell_type": "code",
   "execution_count": null,
   "metadata": {},
   "outputs": [],
   "source": []
  },
  {
   "cell_type": "code",
   "execution_count": null,
   "metadata": {},
   "outputs": [],
   "source": []
  },
  {
   "cell_type": "code",
   "execution_count": null,
   "metadata": {},
   "outputs": [],
   "source": []
  },
  {
   "cell_type": "markdown",
   "metadata": {},
   "source": [
    "___\n",
    "## Links :\n",
    "\n",
    " **Listas**\n",
    " 0. [Documentacao Oficial](https://docs.python.org/3/tutorial/datastructures.html)\n",
    " 1. [Quackit](https://www.quackit.com/python/reference/python_3_list_methods.cfm)\n",
    " 2. [Programiz](https://www.programiz.com/python-programming/list)\n",
    " \n",
    " \n",
    " **Tuplas**\n",
    " 0. [LEGOS](LINK)\n",
    " 1. [SOEGL](LINK)\n",
    " \n",
    " **Zip**"
   ]
  },
  {
   "cell_type": "markdown",
   "metadata": {},
   "source": [
    "## Proximo capitulo : [Coleções II]                                                                   \n",
    "## [Home](https://github.com/Ratarca/py2work-ECON)"
   ]
  }
 ],
 "metadata": {
  "kernelspec": {
   "display_name": "Python 3",
   "language": "python",
   "name": "python3"
  }
 },
 "nbformat": 4,
 "nbformat_minor": 2
}
