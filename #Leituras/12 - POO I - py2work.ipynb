{
 "cells": [
  {
   "cell_type": "markdown",
   "metadata": {},
   "source": [
    "# Introdução a POO\n",
    " Para compreender o conceito de objetos irei retornar ao meu tempo de restaurante pois lá atras podemos ter todas historias que fizeram paralelo entre programação e o mundo da cozinha!\n",
    " Neste longo capitulo iremos abordar alguns temas essenciais a programação como :\n",
    " \n",
    " 1. Classes\n",
    " 2. Atributos\n",
    " 3. Métodos\n",
    " 4. Abstração e encapsulamento\n",
    " \n",
    "  Acredito que deveria subdividir os topicos para ficar mais light entretanto algo chamado preguiça está sob meus ombros e ela sussura em meu ouvido não precisa irei acatar as sabias palavras dessa senhorita.\n",
    "  Mas relaxem acredito que o modo que irei dividir este notebook ficara facil de você mesmo fazer sua divisão de estudo ou compreensão."
   ]
  },
  {
   "cell_type": "markdown",
   "metadata": {},
   "source": [
    "## Classes\n",
    " Classes são **abstrações de entidades do mundo real** que contem **atributos**,**métodos** e podem opcionalmente ter atributos **encapsulados** , podem ter **herança** e exercer um certo **polimorfismo**.\n",
    " \n",
    "  ~~Posteriormente iremos abordar herança,polimorfismo e metaclasses então aguenta ai e foco na outra historia!~~\n",
    "  \n",
    "  Um dia fui a um fornecedor de carneiros para cozinha do meu restaurante e lá consegui presenciar o conceito de classes na pratica observando carneiros e porcos!\n",
    "  Um carneiro tem **atributos** que **são** suas **caracteristicas** como pelos,patas e também tem seu **estado** com raiva ou não. Carneiros tem seus **métodos** que **são** suas **funções/habilidades** como grunir e também tem coisas **encapsuladas** como seus orgãos.\n",
    "  \n",
    "  Já os porcos são bem semelhantes aos carneiros eles tem **herança** comum ao serem mamiferos entretanto tem atributos e metodos diferentes o chamamos de **polimorfismo**.\n",
    "  \n",
    "  \n",
    "  Nosso objetivo será dar sustentação em teoria para que possamos fazer a modelagem e ampliar nossas skills em programação!\n",
    "  \n",
    "  Para tal iremos começar **criando classes**."
   ]
  },
  {
   "cell_type": "code",
   "execution_count": null,
   "metadata": {},
   "outputs": [],
   "source": [
    "\"\"\"\n",
    "    Criando uma classe chamada carneiro\n",
    "\"\"\"\n",
    "\n",
    "class carneiro():\n",
    "    pass\n",
    "\n",
    "lupi = carneiro()"
   ]
  },
  {
   "cell_type": "markdown",
   "metadata": {},
   "source": [
    "  Acima criamos uma classe chamada carneiro vazia é basicamente essa a sintaxe para criar classes obviamente iremos\n",
    " torna-lá mais complexa ao longo do tempo espere e verá um carneiro voador,cuspidor de fogo devorador de porcos!\n",
    " \n",
    " Acima temos uma classe chamada carneiro e uma instancia/objeto chamado lupi isso é lupi. Fazendo uma analogia a classe carneiro é a entidade carneiro o animal em si enquanto lupi é um carneiro especifico criado a partir da entidade maior."
   ]
  },
  {
   "cell_type": "markdown",
   "metadata": {},
   "source": [
    "## Atributos\n",
    "    \n",
    " Atributos como definimos são caracteristicas de nossa classe ou instancia eles podem ser diferenciados entre \"3\" modalidades.\n",
    " \n",
    "   1. De instancia sendo esses **publicos ou privados** ~~privadoébaitdopythoncarai~~\n",
    "   2. De classe\n",
    "   3. Dinamicos\n",
    "   \n",
    " Iremos destrinchar a criação e as caracteristicas de cada um aguenta ai meu colega."
   ]
  },
  {
   "cell_type": "code",
   "execution_count": null,
   "metadata": {},
   "outputs": [],
   "source": [
    "\"\"\"\n",
    "    Atributos\n",
    "        - Atributos publicos e privados\n",
    "        - Classe\n",
    "        - Dinamicos\n",
    "\"\"\"\n",
    "\n",
    "#Gerando uma classe com atributos\n",
    "\n",
    "class Carneiro():\n",
    "    def __init__(self,Pelugem,CorPelo,Emocao):\n",
    "        self.Pelugem = Pelugem     #Atributo publico => Acessivel a todos\n",
    "        self.__CorPelo = CorPelo   #Atributo \"privado\" => Acessivel somente a classe entretanto isso é bem falso no python diferente de Java\n",
    "        self.Emocao = Emocao\n",
    "        \n",
    "class Pig():\n",
    "    Lama = 0.8  #Atributo de Classe\n",
    "    Contador = 0    #Atributo de Classe\n",
    "    \n",
    "    def __init__(self,Peso,Id):\n",
    "        self.Peso = Peso + Pig.Lama    #Atributo publico\n",
    "        self.Id = Pig.Contador + 1  #Estamos usando o atributo de classe dentro de nosso Id para gerar automaticamente\n",
    "        Pig.Contador = self.Id    #Redefinindo o Contador (Atualizando o mesmo) !\n",
    "\n",
    "dir(Carneiro)\n",
    "dir(Pig)\n",
    "        \n",
    "#Atributos Dinamicos\n",
    "\"\"\"\n",
    "    Um atributo de instancia e criado no tempo de execucao\n",
    "    Ele é criado exclusivamente da instancia gerada ; Evite isso pois é dificil de encontrar erros depois!\n",
    "\"\"\"\n",
    "porco1 = Pig()\n",
    "porco1.Voice = \"ONK\"  #Criamos uma instancia chamada porco1 derivada da classe pig com um atributo de voz\n",
    "\n",
    "del porco1.Voice #Podemos deletar atributos tambem\n"
   ]
  },
  {
   "cell_type": "markdown",
   "metadata": {},
   "source": [
    "## Métodos\n",
    "\n",
    " São os **comportamentos/ações de uma classe/instancia** são **equiparaveis a funções** onde podem ser divididos em metodos de classes ou classe.\n",
    " "
   ]
  },
  {
   "cell_type": "code",
   "execution_count": null,
   "metadata": {},
   "outputs": [],
   "source": [
    "\"\"\"\n",
    "    Metodos são funções das nossas classes e instancias/objetos\n",
    "        -Metodos de instancia\n",
    "        -Metodos de classe\n",
    "        -Metodos estaticos\n",
    "        -Metodos Publicos VS privados\n",
    "    \n",
    "\"\"\"\n",
    "\n",
    "class Mamifero():\n",
    "    Coracao = \"Coracao\"\n",
    "    t_pelo = 0\n",
    "    idade = 0\n",
    "    \n",
    "    @classmethod   #Como definir metodo de classe\n",
    "    def respirar(cls):\n",
    "        return print(\"Estou respirando com meu {}\".format(Mamifero.Coracao))\n",
    "        \n",
    "    @classmethod   \n",
    "    def apresentar(cls):\n",
    "        return(\"Ola sou {} tenho {} anos \".format('mamifero',Mamifero.idade))\n",
    "    \n",
    "    @staticmethod   #Metodo estatico\n",
    "    def grunir():\n",
    "        return print(\"Estou grunindo\")\n",
    "        \n",
    "    def __init__(self,raca,patas):\n",
    "        self.raca = raca\n",
    "        self.patas = patas\n",
    "        \n",
    "    def __falar():    #Metodo privado de instancia : indicado para utilizar dentro da instancia!\n",
    "        return 'Olá'\n",
    "        \n",
    "    def correr(self):  #Metodo publico \n",
    "        return print(\"{} correndo em {} patas\".format{self.__falar,self.patas})  #Utilizamos o metodo privado dentro da classe olha só\n",
    "    \n",
    "    def crescer_pelo(self):\n",
    "        self.pelo = Mamifero.t_pelo + 1\n",
    "        Mamifero.t_pelo = self.pelo\n",
    "        \n",
    "    def envelhecer(self):   #Interagindo classe e instancia\n",
    "        self.IdadeObjeto = idade +1\n",
    "        Mamifero.idade = self.IdadeObjeto\n",
    "\n",
    "lupi = Mamifero(carneiro,4)\n",
    "\n",
    "lupi.correr()  #Usando o metodo de instancia na instancia\n",
    "lupi.respirar()  #Usando metodo de classe na instancia tem pessoas que nao gostam!\n",
    "\n",
    "Mamifero.respirar()  #Usando metodo de classe na classe\n"
   ]
  },
  {
   "cell_type": "markdown",
   "metadata": {},
   "source": [
    " Metodos estaticos não tem acesso a nada ,enquanto metodos de classe tem acesso a suas classes  e metodos de instnacia podem acessar classes e instnacia.\n",
    "  Usamos metodos de classe para acessar propriedades e manipular nossas classes enquanto instancia usamos para manipular nossa instnacia não indicamos acessar classes pois podem causar grandes problemas ~~programacaofuncionalcriadaporesseserro~~.\n",
    "  \n",
    "  Nosso codigo cria classe mamifero com metodos de classe e estaticos ,apos isso geramos nosso construtor de objetos com seus atributos e respectivamente metodos proprios sendo privados ou publicos."
   ]
  },
  {
   "cell_type": "markdown",
   "metadata": {},
   "source": [
    "## Objetos\n",
    "\n",
    " Sempre é bom rememorar vale lembrar que objetos são instancias de uma classe podemos definir abaixo:\n",
    " \n",
    " CLASSE (º):\n",
    "     #atributos de classe\n",
    "     #metodos de classe\n",
    " def __ init __ (º):\n",
    "     #atributos de instancia\n",
    "     #metodos de instancia\n",
    "     \n",
    "Podemos podemos interagir as classes entre elas algo totalmente magico e que irá aumentar drasticamente a complexidade de nosso programa entretanto iremos abordar isso somente na parte mais \"avançada\" pois acredito que isso poderá confundi-lo um pouco.\n",
    "      "
   ]
  },
  {
   "cell_type": "markdown",
   "metadata": {},
   "source": [
    "## Abstração e encapsulamento\n",
    "\n",
    " No fundo você pode utilizar qualquer paradigma para resolver problemas de programação entretanto.\n",
    " \n",
    " Nosso objetivo com POO é encapsular nosso codigo dentro de um grupo logico e hierarquico com classes basicamente o que eu quero dizer que a poo torna nosso codigo um ambiente vivo ou uma universidade imagina que tenho problema de calculo eu posso ir no instituto de matematica e pedir ajuda a um estudante se é algo mais complexo levo para alguem mais gabaritado. A grande magia de projetos e programação é o seu mindset ou seja o jeito de organizar as coisas altera a eficiencia daquilo compare os modelos de Ford vs modelo toyota de produção ou modelos auto-organizaveis é isto que quero falar.\n",
    " \n",
    " Encapsular basicamente é basicamento armazenar um pacote de atributos e \n",
    " \n",
    " \n",
    " abstração é basicamente expor os dados relevantes de uma classe enquanto o resto (atributos e metodos) são interiorizados\n"
   ]
  },
  {
   "cell_type": "code",
   "execution_count": null,
   "metadata": {},
   "outputs": [],
   "source": []
  },
  {
   "cell_type": "markdown",
   "metadata": {},
   "source": [
    "# Links"
   ]
  },
  {
   "cell_type": "markdown",
   "metadata": {},
   "source": [
    "## Proximo capitulo : [POO avançada]"
   ]
  }
 ],
 "metadata": {
  "kernelspec": {
   "display_name": "Python 3",
   "language": "python",
   "name": "python3"
  }
 },
 "nbformat": 4,
 "nbformat_minor": 2
}
