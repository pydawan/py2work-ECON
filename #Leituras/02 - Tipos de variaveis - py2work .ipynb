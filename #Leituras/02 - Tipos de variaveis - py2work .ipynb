{
 "cells": [
  {
   "cell_type": "markdown",
   "metadata": {},
   "source": [
    "# Tipos de variaveis\n",
    "\n",
    "  Caso ainda se lembre de nosso exemplo do restaurante podemos definir que carne era uma variavel feita de letras!\n",
    "  \n",
    "  Agora vamos nos aprofundar nestes conceitos e deixar isso mais claro pois daqui a pouco iremos crescer nossa narrativa para algo totalmente novo **vamos falar muito de investimentos e economia meus bonito(a)**.\n",
    "  \n",
    "  Basicamente **variaveis** são **dados ou objetos armazenados na memoria** e podem serem **feitas de diversos tipos** como letras,numeros ou booleanos!\n",
    "  \n",
    "  Depois de um tempo trabalhando em restaurantes eu consegui um emprego em um casa de investimentos e lá aprendi muito sobre investimentos e queria compartilhar minha experiencia não somente com a linguagem humana mas também com linguagem de computador (python).\n",
    "  \n",
    "  No meu primeiro dia me apresentaram algumas atividades e minha primeira atividade era **cadadastrar algumas informações** agora pergunto como poderiamos fazer isso em um computador com python?!"
   ]
  },
  {
   "cell_type": "code",
   "execution_count": null,
   "metadata": {},
   "outputs": [],
   "source": [
    "\"\"\"\n",
    " Iremos conhecer alguns ativos financeiros em nosso percurso ou seja vou te fazer rico como um bento pois você \n",
    " vai aprender sobre o mundo dos investimentos!\n",
    " (brincadeira)\n",
    " \n",
    "\"\"\"\n",
    "\n",
    "titulo = str(input(\"Informe o titulo: \"))\n",
    "preco = int(input(\"Informe o valor de face: \"))\n",
    "juros = float(input(\"Informe o juros: \"))"
   ]
  },
  {
   "cell_type": "markdown",
   "metadata": {},
   "source": [
    "## Compreendendo o código!\n",
    " \n",
    " Agora iremos decifrar o código acima e preencher com algumas informações que irei te informar:\n",
    " \n",
    " 1. str : são basicamente **letras**\n",
    " 2. int : são **numeros inteiros** como 1,2,3,...,999 e por ai vai!\n",
    " 3. float : são os famosos **numeros \"quebrados\"** como 1.24 , 9.99 ou seja usamos o ponto como separador!\n",
    " \n",
    "  Há também o tipo booleano o qual iremos abordar em nossa aula de estruturas logicas entretanto irei deixar como sempre\n",
    " bons links de estudo se você quiser se aprofundar!\n",
    " \n",
    "   Vamos preender com as informações a seguir : \n",
    " \n",
    " titulo escreva LTN\n",
    "  \n",
    " preco escreva 1000\n",
    "  \n",
    " juros escreva 6.5\n",
    " "
   ]
  },
  {
   "cell_type": "markdown",
   "metadata": {},
   "source": [
    "## Links\n",
    "\n",
    "Sobre tipos de dados e um pouco além.\n",
    "https://realpython.com/python-data-types/\n",
    "\n",
    "Sobre investimentos em renda fixa (Titulos publicos).\n",
    "http://www.tesouro.fazenda.gov.br/documents/10180/560982/Modulo_1_-_TesouroDireto.pdf\n",
    "\n",
    "http://www.tesouro.fazenda.gov.br/documents/10180/560982/Modulo_2_-_Tesouro_Direto.pdf\n",
    "\n",
    "http://www.tesouro.fazenda.gov.br/documents/10180/560982/Modulo_3_-_Tesouro_Direto.pdf"
   ]
  },
  {
   "cell_type": "markdown",
   "metadata": {},
   "source": [
    "## Proximo capitulo : [Operadores matematico e outros]"
   ]
  }
 ],
 "metadata": {
  "kernelspec": {
   "display_name": "Python 3",
   "language": "python",
   "name": "python3"
  }
 },
 "nbformat": 4,
 "nbformat_minor": 2
}
