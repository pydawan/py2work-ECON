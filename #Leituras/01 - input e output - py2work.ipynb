{
 "cells": [
  {
   "cell_type": "markdown",
   "metadata": {},
   "source": [
    "# py2work : Input & Output + Comentarios\n",
    "\n",
    " Quando trabalhava na cozinha do restaurante aos meus sábados noturnos havia um balcão onde era anotados os pedidos ao olhar esses pedidos sabia previamente o que era me solicitado ou seja eu era informado.\n",
    " Certo dia fui fazer um hamburgue fui ao moedor coloquei carne e saiu daquela máquina carne moida e processada ideal para fazer meu pedido.\n",
    " \n",
    "  Assim é o mundo da programação os pedidos isso é a informação dada com antecedencia são comentarios estes de suma importancia para compreender o código que você escreve ou para outro usuario do seu script dar a devida manutenção! \n",
    "\n",
    "  Podemos ir além a carne inserida no moedor são as estruturas de dados inseridas(input) isso é se são numeros ou letras nosso moedor pode ser comparado a funções,veremos mais tarde isso não se preoucupe, enquanto o produto final é o nosso output ou seja nosso resultado.\n",
    "  \n",
    "  Então vamos analisar o código abaixo para que você consiga iniciar sua jornada no mundo dos restaurantes ou quero dizer da programação meu(minha) camarada!"
   ]
  },
  {
   "cell_type": "code",
   "execution_count": null,
   "metadata": {},
   "outputs": [],
   "source": [
    "\"\"\"\n",
    " Essa estrutura de 3 aspas serve para receitas grandes\n",
    "     1 - Comentarios grandes\n",
    "     2 - Comentarios de uma linha\n",
    "     3 - input\n",
    "     4 - Output (print)\n",
    "\"\"\"\n",
    "\n",
    "#Quero uma pizza\n",
    "\n",
    "pizza = str(input(\"Digite sua pizza : \"))\n",
    "print(pizza)\n",
    "\n",
    "print(\"Sua pizza de {} está pronta meu camarada\".format(pizza))"
   ]
  },
  {
   "cell_type": "markdown",
   "metadata": {},
   "source": [
    " ## Analisando o codigo acima : \n",
    " \n",
    "   Podemos declarar comentarios de mais de uma linha com 3 aspas duplas enquanto para fazer um breve comentario de uma linha\n",
    " usaremos o (#).\n",
    "   Um conceito importante é o de variavel isso basicamente é um espaço de memoria onde podemos armazenar um dado. Criamos \n",
    " a variavel pizza e dizemos que ela é composta de letras e desejamos que o usuario inpute dados e para isso também fornecemos uma bela mensagem.\n",
    "   Após isso usamos a função print para imprimir na tela uma mensagem com o nome da pizza na ultima linha elaboramos melhor a mensagem com método format onde deixaremos alguns links para estudo sobre tal método.\n",
    "   \n",
    "   Basicamente isso é seu inicio de jornada no mundo python com tais aulas iremos contruir aos poucos um grande mundo!\n",
    " "
   ]
  },
  {
   "cell_type": "markdown",
   "metadata": {},
   "source": [
    "## Links :\n",
    "\n",
    "https://cadernoscicomp.com.br/tutorial/introducao-a-programacao-em-python-3/funcoes-print-input-e-o-metodo-format/\n",
    "https://realpython.com/python-f-strings/\n",
    "\n",
    "https://www.youtube.com/watch?v=xwR28LoUnq0\n"
   ]
  },
  {
   "cell_type": "markdown",
   "metadata": {},
   "source": [
    "## Proximo capitulo : [Tipo de variaveis] "
   ]
  }
 ],
 "metadata": {
  "kernelspec": {
   "display_name": "Python 3",
   "language": "python",
   "name": "python3"
  }
 },
 "nbformat": 4,
 "nbformat_minor": 2
}
