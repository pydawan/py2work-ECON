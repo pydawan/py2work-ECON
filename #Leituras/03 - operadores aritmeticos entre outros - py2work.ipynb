{
 "cells": [
  {
   "cell_type": "markdown",
   "metadata": {},
   "source": [
    "# Operadores matematicos entre outros\n",
    "\n",
    "  Operadores matematicos e de comparação são **essenciais no mundo** da programação , investimentos melhor dizendo amiguinho se você deseja aprender tudo que envolve matematica deverá aprender utilizar tais instrumentos!\n",
    "  Abaixo vamos "
   ]
  },
  {
   "cell_type": "code",
   "execution_count": null,
   "metadata": {},
   "outputs": [],
   "source": [
    "\"\"\"\n",
    "    Operadores\n",
    "        - matematico\n",
    "        - comparacao\n",
    "        - logicos\n",
    "\"\"\"\n",
    "\n",
    "a = 3\n",
    "b = 4\n",
    "c = 5\n",
    "\n",
    "#Matematicos\n",
    "soma = a+b\n",
    "menos = a-b\n",
    "\n",
    "multiplicacao = a*b\n",
    "divisao = a/b\n",
    "\n",
    "resto = b // a\n",
    "quociente = b % a\n",
    "\n",
    "potencia = a**b\n",
    "\n",
    "\n",
    "#Comparacao\n",
    "maior = a > b\n",
    "maior_igual = a >= b\n",
    "\n",
    "menor = a < b\n",
    "menor_igual = a <= b\n",
    "\n",
    "igual = a == b\n",
    "diferente = a != b\n",
    "\n",
    "#Logicos\n",
    "\n",
    "E = a<b and c>b   # &\n",
    "OU = a>b or c>b   # |\n",
    "não = a = not(c)"
   ]
  },
  {
   "cell_type": "markdown",
   "metadata": {},
   "source": [
    "## Matematico\n",
    "\n",
    "Traduzindo o código basicamente estamos armazenando um valor na variavel e utilizando os operadores exemplo:\n",
    "\n",
    "Chamaremos uma variavel de soma e apos isso iremos executar a operação de soma das variaveis a **+** b.\n",
    " Espero que compreenda essa dinamica pois a partir de agora espero que consiga fazer a leitura de códigos e entender o conceito de declaração de variaveis.\n",
    " \n",
    " Os operadoradores classicos que vemos acima no código são utilizados para nossas **operações matematicas**. Onde podemos fazer \"continhas\" como somar receitas,determinar fluxos de caixas entre outras coisas."
   ]
  },
  {
   "cell_type": "markdown",
   "metadata": {},
   "source": [
    "## Comparação\n",
    "\n",
    "  Os operadores de comparação são muito utilizado para **comparar** dois ou mais **dados** se eu tenho mais que 18 anos, se um titulo que comprei valorizou mais que 10% com base nisso podemos **tomar decisões** em nossos códigos."
   ]
  },
  {
   "cell_type": "markdown",
   "metadata": {},
   "source": [
    "## Logico\n",
    "\n",
    " Os operadores logicos tem como saida os valores verdadeiro e falso! Isso é muito utilizado para gerar decisões.\n",
    " \n",
    " Operador (AND) tem saida verdadeiro se todos as comparações são verdadeiras enquanto operador (OR) tem saida verdadeiro se alguma das comparações são verdadeiras caso isso não ocorra haverá uma saida de valor falso.\n",
    " \n",
    " "
   ]
  },
  {
   "cell_type": "markdown",
   "metadata": {},
   "source": [
    "## Links\n",
    "\n",
    "Para mais informações disponibilizamos os links abaixo\n",
    "\n",
    "https://data-flair.training/blogs/python-operator/\n",
    "\n",
    "https://www.tutorialspoint.com/python/python_basic_operators.htm\n",
    "\n",
    "https://www.programiz.com/python-programming/operators\n"
   ]
  },
  {
   "cell_type": "markdown",
   "metadata": {},
   "source": [
    "## Proximo Capitulo : [Estruturas lógicas]"
   ]
  }
 ],
 "metadata": {
  "kernelspec": {
   "display_name": "Python 3",
   "language": "python",
   "name": "python3"
  }
 },
 "nbformat": 4,
 "nbformat_minor": 2
}
